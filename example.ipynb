{
 "cells": [
  {
   "cell_type": "markdown",
   "id": "2d762ab9",
   "metadata": {},
   "source": [
    "# **conformalMaps**\n",
    "### An interactive package for intercative use of conformal mappings\n",
    "\n",
    "* Function **w = f(z) should be entered in standard Pythonic form**, (ex:z**2 for $z^2$)\n",
    "\n",
    "* Functions entered should be availabe in SymPy lib and must be entered in same form because internally it uses sympy for symbolic conversion.\n",
    "\n",
    "* The entered function w can be a function of z or of the form x + i y\n",
    "'x' and 'y' are real and imaginary variables respectively.\n",
    "\n",
    "* Typical usage\n",
    "```\n",
    "     z**2\n",
    "     x**2 + I*y**2\n",
    "     tan(z)\n",
    "```\n",
    "* **Note use 'I' for imaginary number $\\rm{i}$ iota**\n",
    "\n",
    "* Use transformation slider to see the transformation\n",
    "* Limit range limits the grid to $\\pm$ slider value\n",
    "* Ticks increases number of gridlines"
   ]
  },
  {
   "cell_type": "markdown",
   "id": "8ac91508",
   "metadata": {},
   "source": [
    "# Supported Grids to transform\n",
    "\n",
    "* **Rectangle**\n",
    "\n",
    "* **Square**\n",
    "\n",
    "* **Donut**\n",
    "\n",
    "* **Circle**\n",
    "\n",
    "* **Single circle**\n",
    "\n",
    "# Advanced builtin functions for w\n",
    "\n",
    "* **Rectangle to Eccentric Annulus**\n",
    "\n",
    "* **Rectangle to Elliptic Annulus**\n",
    "\n",
    "* **Concentric Annulus To Eccentric Annulus**"
   ]
  },
  {
   "cell_type": "markdown",
   "id": "58074754",
   "metadata": {},
   "source": [
    "# **Run the below Cells First**"
   ]
  },
  {
   "cell_type": "markdown",
   "id": "b6639f6f-cf63-4c8e-a1d0-529fc47ebaa4",
   "metadata": {},
   "source": [
    "**If you have installed all the dependences, or opening this repo with binder, Skip the next cell**"
   ]
  },
  {
   "cell_type": "code",
   "execution_count": 1,
   "id": "c971ece2",
   "metadata": {},
   "outputs": [
    {
     "name": "stdout",
     "output_type": "stream",
     "text": [
      "Requirement already satisfied: sympy in c:\\users\\caris\\miniconda3\\envs\\roar_py\\lib\\site-packages (from -r requirements.txt (line 1)) (1.13.1)\n",
      "Requirement already satisfied: plotly in c:\\users\\caris\\miniconda3\\envs\\roar_py\\lib\\site-packages (from -r requirements.txt (line 2)) (5.23.0)\n",
      "Requirement already satisfied: numpy in c:\\users\\caris\\miniconda3\\envs\\roar_py\\lib\\site-packages (from -r requirements.txt (line 3)) (1.24.4)\n",
      "Requirement already satisfied: jupyter in c:\\users\\caris\\miniconda3\\envs\\roar_py\\lib\\site-packages (from -r requirements.txt (line 4)) (1.0.0)\n",
      "Requirement already satisfied: voila in c:\\users\\caris\\miniconda3\\envs\\roar_py\\lib\\site-packages (from -r requirements.txt (line 5)) (0.5.7)\n",
      "Requirement already satisfied: mpmath<1.4,>=1.1.0 in c:\\users\\caris\\miniconda3\\envs\\roar_py\\lib\\site-packages (from sympy->-r requirements.txt (line 1)) (1.3.0)\n",
      "Requirement already satisfied: tenacity>=6.2.0 in c:\\users\\caris\\miniconda3\\envs\\roar_py\\lib\\site-packages (from plotly->-r requirements.txt (line 2)) (9.0.0)\n",
      "Requirement already satisfied: packaging in c:\\users\\caris\\miniconda3\\envs\\roar_py\\lib\\site-packages (from plotly->-r requirements.txt (line 2)) (24.1)\n",
      "Requirement already satisfied: notebook in c:\\users\\caris\\miniconda3\\envs\\roar_py\\lib\\site-packages (from jupyter->-r requirements.txt (line 4)) (7.2.1)\n",
      "Requirement already satisfied: qtconsole in c:\\users\\caris\\miniconda3\\envs\\roar_py\\lib\\site-packages (from jupyter->-r requirements.txt (line 4)) (5.5.2)\n",
      "Requirement already satisfied: jupyter-console in c:\\users\\caris\\miniconda3\\envs\\roar_py\\lib\\site-packages (from jupyter->-r requirements.txt (line 4)) (6.6.3)\n",
      "Requirement already satisfied: nbconvert in c:\\users\\caris\\miniconda3\\envs\\roar_py\\lib\\site-packages (from jupyter->-r requirements.txt (line 4)) (7.16.4)\n",
      "Requirement already satisfied: ipykernel in c:\\users\\caris\\miniconda3\\envs\\roar_py\\lib\\site-packages (from jupyter->-r requirements.txt (line 4)) (6.29.5)\n",
      "Requirement already satisfied: ipywidgets in c:\\users\\caris\\miniconda3\\envs\\roar_py\\lib\\site-packages (from jupyter->-r requirements.txt (line 4)) (8.1.3)\n",
      "Requirement already satisfied: jupyter-client<9,>=7.4.4 in c:\\users\\caris\\miniconda3\\envs\\roar_py\\lib\\site-packages (from voila->-r requirements.txt (line 5)) (8.6.2)\n",
      "Requirement already satisfied: jupyter-core>=4.11.0 in c:\\users\\caris\\miniconda3\\envs\\roar_py\\lib\\site-packages (from voila->-r requirements.txt (line 5)) (5.7.2)\n",
      "Requirement already satisfied: jupyter-server<3,>=2.0.0 in c:\\users\\caris\\miniconda3\\envs\\roar_py\\lib\\site-packages (from voila->-r requirements.txt (line 5)) (2.14.2)\n",
      "Requirement already satisfied: jupyterlab-server<3,>=2.3.0 in c:\\users\\caris\\miniconda3\\envs\\roar_py\\lib\\site-packages (from voila->-r requirements.txt (line 5)) (2.27.3)\n",
      "Requirement already satisfied: nbclient>=0.4.0 in c:\\users\\caris\\miniconda3\\envs\\roar_py\\lib\\site-packages (from voila->-r requirements.txt (line 5)) (0.10.0)\n",
      "Requirement already satisfied: traitlets<6,>=5.0.3 in c:\\users\\caris\\miniconda3\\envs\\roar_py\\lib\\site-packages (from voila->-r requirements.txt (line 5)) (5.14.3)\n",
      "Requirement already satisfied: websockets>=9.0 in c:\\users\\caris\\miniconda3\\envs\\roar_py\\lib\\site-packages (from voila->-r requirements.txt (line 5)) (12.0)\n",
      "Requirement already satisfied: importlib-metadata>=4.8.3 in c:\\users\\caris\\miniconda3\\envs\\roar_py\\lib\\site-packages (from jupyter-client<9,>=7.4.4->voila->-r requirements.txt (line 5)) (8.2.0)\n",
      "Requirement already satisfied: python-dateutil>=2.8.2 in c:\\users\\caris\\miniconda3\\envs\\roar_py\\lib\\site-packages (from jupyter-client<9,>=7.4.4->voila->-r requirements.txt (line 5)) (2.9.0)\n",
      "Requirement already satisfied: pyzmq>=23.0 in c:\\users\\caris\\miniconda3\\envs\\roar_py\\lib\\site-packages (from jupyter-client<9,>=7.4.4->voila->-r requirements.txt (line 5)) (26.0.3)\n",
      "Requirement already satisfied: tornado>=6.2 in c:\\users\\caris\\miniconda3\\envs\\roar_py\\lib\\site-packages (from jupyter-client<9,>=7.4.4->voila->-r requirements.txt (line 5)) (6.4.1)\n",
      "Requirement already satisfied: platformdirs>=2.5 in c:\\users\\caris\\miniconda3\\envs\\roar_py\\lib\\site-packages (from jupyter-core>=4.11.0->voila->-r requirements.txt (line 5)) (4.2.2)\n",
      "Requirement already satisfied: pywin32>=300 in c:\\users\\caris\\miniconda3\\envs\\roar_py\\lib\\site-packages (from jupyter-core>=4.11.0->voila->-r requirements.txt (line 5)) (306)\n",
      "Requirement already satisfied: anyio>=3.1.0 in c:\\users\\caris\\miniconda3\\envs\\roar_py\\lib\\site-packages (from jupyter-server<3,>=2.0.0->voila->-r requirements.txt (line 5)) (4.4.0)\n",
      "Requirement already satisfied: argon2-cffi>=21.1 in c:\\users\\caris\\miniconda3\\envs\\roar_py\\lib\\site-packages (from jupyter-server<3,>=2.0.0->voila->-r requirements.txt (line 5)) (23.1.0)\n",
      "Requirement already satisfied: jinja2>=3.0.3 in c:\\users\\caris\\miniconda3\\envs\\roar_py\\lib\\site-packages (from jupyter-server<3,>=2.0.0->voila->-r requirements.txt (line 5)) (3.1.4)\n",
      "Requirement already satisfied: jupyter-events>=0.9.0 in c:\\users\\caris\\miniconda3\\envs\\roar_py\\lib\\site-packages (from jupyter-server<3,>=2.0.0->voila->-r requirements.txt (line 5)) (0.10.0)\n",
      "Requirement already satisfied: jupyter-server-terminals>=0.4.4 in c:\\users\\caris\\miniconda3\\envs\\roar_py\\lib\\site-packages (from jupyter-server<3,>=2.0.0->voila->-r requirements.txt (line 5)) (0.5.3)\n",
      "Requirement already satisfied: nbformat>=5.3.0 in c:\\users\\caris\\miniconda3\\envs\\roar_py\\lib\\site-packages (from jupyter-server<3,>=2.0.0->voila->-r requirements.txt (line 5)) (5.10.4)\n",
      "Requirement already satisfied: overrides>=5.0 in c:\\users\\caris\\miniconda3\\envs\\roar_py\\lib\\site-packages (from jupyter-server<3,>=2.0.0->voila->-r requirements.txt (line 5)) (7.7.0)\n",
      "Requirement already satisfied: prometheus-client>=0.9 in c:\\users\\caris\\miniconda3\\envs\\roar_py\\lib\\site-packages (from jupyter-server<3,>=2.0.0->voila->-r requirements.txt (line 5)) (0.20.0)\n",
      "Requirement already satisfied: pywinpty>=2.0.1 in c:\\users\\caris\\miniconda3\\envs\\roar_py\\lib\\site-packages (from jupyter-server<3,>=2.0.0->voila->-r requirements.txt (line 5)) (2.0.13)\n",
      "Requirement already satisfied: send2trash>=1.8.2 in c:\\users\\caris\\miniconda3\\envs\\roar_py\\lib\\site-packages (from jupyter-server<3,>=2.0.0->voila->-r requirements.txt (line 5)) (1.8.3)\n",
      "Requirement already satisfied: terminado>=0.8.3 in c:\\users\\caris\\miniconda3\\envs\\roar_py\\lib\\site-packages (from jupyter-server<3,>=2.0.0->voila->-r requirements.txt (line 5)) (0.18.1)\n",
      "Requirement already satisfied: websocket-client>=1.7 in c:\\users\\caris\\miniconda3\\envs\\roar_py\\lib\\site-packages (from jupyter-server<3,>=2.0.0->voila->-r requirements.txt (line 5)) (1.8.0)\n",
      "Requirement already satisfied: babel>=2.10 in c:\\users\\caris\\miniconda3\\envs\\roar_py\\lib\\site-packages (from jupyterlab-server<3,>=2.3.0->voila->-r requirements.txt (line 5)) (2.15.0)\n",
      "Requirement already satisfied: json5>=0.9.0 in c:\\users\\caris\\miniconda3\\envs\\roar_py\\lib\\site-packages (from jupyterlab-server<3,>=2.3.0->voila->-r requirements.txt (line 5)) (0.9.25)\n",
      "Requirement already satisfied: jsonschema>=4.18.0 in c:\\users\\caris\\miniconda3\\envs\\roar_py\\lib\\site-packages (from jupyterlab-server<3,>=2.3.0->voila->-r requirements.txt (line 5)) (4.23.0)\n",
      "Requirement already satisfied: requests>=2.31 in c:\\users\\caris\\miniconda3\\envs\\roar_py\\lib\\site-packages (from jupyterlab-server<3,>=2.3.0->voila->-r requirements.txt (line 5)) (2.32.3)\n",
      "Requirement already satisfied: beautifulsoup4 in c:\\users\\caris\\miniconda3\\envs\\roar_py\\lib\\site-packages (from nbconvert->jupyter->-r requirements.txt (line 4)) (4.12.3)\n",
      "Requirement already satisfied: bleach!=5.0.0 in c:\\users\\caris\\miniconda3\\envs\\roar_py\\lib\\site-packages (from nbconvert->jupyter->-r requirements.txt (line 4)) (6.1.0)\n",
      "Requirement already satisfied: defusedxml in c:\\users\\caris\\miniconda3\\envs\\roar_py\\lib\\site-packages (from nbconvert->jupyter->-r requirements.txt (line 4)) (0.7.1)\n",
      "Requirement already satisfied: jupyterlab-pygments in c:\\users\\caris\\miniconda3\\envs\\roar_py\\lib\\site-packages (from nbconvert->jupyter->-r requirements.txt (line 4)) (0.3.0)\n",
      "Requirement already satisfied: markupsafe>=2.0 in c:\\users\\caris\\miniconda3\\envs\\roar_py\\lib\\site-packages (from nbconvert->jupyter->-r requirements.txt (line 4)) (2.1.5)\n",
      "Requirement already satisfied: mistune<4,>=2.0.3 in c:\\users\\caris\\miniconda3\\envs\\roar_py\\lib\\site-packages (from nbconvert->jupyter->-r requirements.txt (line 4)) (3.0.2)\n",
      "Requirement already satisfied: pandocfilters>=1.4.1 in c:\\users\\caris\\miniconda3\\envs\\roar_py\\lib\\site-packages (from nbconvert->jupyter->-r requirements.txt (line 4)) (1.5.1)\n",
      "Requirement already satisfied: pygments>=2.4.1 in c:\\users\\caris\\miniconda3\\envs\\roar_py\\lib\\site-packages (from nbconvert->jupyter->-r requirements.txt (line 4)) (2.18.0)\n",
      "Requirement already satisfied: tinycss2 in c:\\users\\caris\\miniconda3\\envs\\roar_py\\lib\\site-packages (from nbconvert->jupyter->-r requirements.txt (line 4)) (1.3.0)\n",
      "Requirement already satisfied: comm>=0.1.1 in c:\\users\\caris\\miniconda3\\envs\\roar_py\\lib\\site-packages (from ipykernel->jupyter->-r requirements.txt (line 4)) (0.2.2)\n",
      "Requirement already satisfied: debugpy>=1.6.5 in c:\\users\\caris\\miniconda3\\envs\\roar_py\\lib\\site-packages (from ipykernel->jupyter->-r requirements.txt (line 4)) (1.8.3)\n",
      "Requirement already satisfied: ipython>=7.23.1 in c:\\users\\caris\\miniconda3\\envs\\roar_py\\lib\\site-packages (from ipykernel->jupyter->-r requirements.txt (line 4)) (8.12.2)\n",
      "Requirement already satisfied: matplotlib-inline>=0.1 in c:\\users\\caris\\miniconda3\\envs\\roar_py\\lib\\site-packages (from ipykernel->jupyter->-r requirements.txt (line 4)) (0.1.7)\n",
      "Requirement already satisfied: nest-asyncio in c:\\users\\caris\\miniconda3\\envs\\roar_py\\lib\\site-packages (from ipykernel->jupyter->-r requirements.txt (line 4)) (1.6.0)\n",
      "Requirement already satisfied: psutil in c:\\users\\caris\\miniconda3\\envs\\roar_py\\lib\\site-packages (from ipykernel->jupyter->-r requirements.txt (line 4)) (6.0.0)\n",
      "Requirement already satisfied: widgetsnbextension~=4.0.11 in c:\\users\\caris\\miniconda3\\envs\\roar_py\\lib\\site-packages (from ipywidgets->jupyter->-r requirements.txt (line 4)) (4.0.11)\n",
      "Requirement already satisfied: jupyterlab-widgets~=3.0.11 in c:\\users\\caris\\miniconda3\\envs\\roar_py\\lib\\site-packages (from ipywidgets->jupyter->-r requirements.txt (line 4)) (3.0.11)\n",
      "Requirement already satisfied: prompt-toolkit>=3.0.30 in c:\\users\\caris\\miniconda3\\envs\\roar_py\\lib\\site-packages (from jupyter-console->jupyter->-r requirements.txt (line 4)) (3.0.47)\n",
      "Requirement already satisfied: jupyterlab<4.3,>=4.2.0 in c:\\users\\caris\\miniconda3\\envs\\roar_py\\lib\\site-packages (from notebook->jupyter->-r requirements.txt (line 4)) (4.2.4)\n",
      "Requirement already satisfied: notebook-shim<0.3,>=0.2 in c:\\users\\caris\\miniconda3\\envs\\roar_py\\lib\\site-packages (from notebook->jupyter->-r requirements.txt (line 4)) (0.2.4)\n",
      "Requirement already satisfied: qtpy>=2.4.0 in c:\\users\\caris\\miniconda3\\envs\\roar_py\\lib\\site-packages (from qtconsole->jupyter->-r requirements.txt (line 4)) (2.4.1)\n",
      "Requirement already satisfied: idna>=2.8 in c:\\users\\caris\\miniconda3\\envs\\roar_py\\lib\\site-packages (from anyio>=3.1.0->jupyter-server<3,>=2.0.0->voila->-r requirements.txt (line 5)) (3.7)\n",
      "Requirement already satisfied: sniffio>=1.1 in c:\\users\\caris\\miniconda3\\envs\\roar_py\\lib\\site-packages (from anyio>=3.1.0->jupyter-server<3,>=2.0.0->voila->-r requirements.txt (line 5)) (1.3.1)\n",
      "Requirement already satisfied: exceptiongroup>=1.0.2 in c:\\users\\caris\\miniconda3\\envs\\roar_py\\lib\\site-packages (from anyio>=3.1.0->jupyter-server<3,>=2.0.0->voila->-r requirements.txt (line 5)) (1.2.2)\n",
      "Requirement already satisfied: typing-extensions>=4.1 in c:\\users\\caris\\miniconda3\\envs\\roar_py\\lib\\site-packages (from anyio>=3.1.0->jupyter-server<3,>=2.0.0->voila->-r requirements.txt (line 5)) (4.12.2)\n",
      "Requirement already satisfied: argon2-cffi-bindings in c:\\users\\caris\\miniconda3\\envs\\roar_py\\lib\\site-packages (from argon2-cffi>=21.1->jupyter-server<3,>=2.0.0->voila->-r requirements.txt (line 5)) (21.2.0)\n",
      "Requirement already satisfied: pytz>=2015.7 in c:\\users\\caris\\miniconda3\\envs\\roar_py\\lib\\site-packages (from babel>=2.10->jupyterlab-server<3,>=2.3.0->voila->-r requirements.txt (line 5)) (2024.1)\n",
      "Requirement already satisfied: six>=1.9.0 in c:\\users\\caris\\miniconda3\\envs\\roar_py\\lib\\site-packages (from bleach!=5.0.0->nbconvert->jupyter->-r requirements.txt (line 4)) (1.16.0)\n",
      "Requirement already satisfied: webencodings in c:\\users\\caris\\miniconda3\\envs\\roar_py\\lib\\site-packages (from bleach!=5.0.0->nbconvert->jupyter->-r requirements.txt (line 4)) (0.5.1)\n",
      "Requirement already satisfied: zipp>=0.5 in c:\\users\\caris\\miniconda3\\envs\\roar_py\\lib\\site-packages (from importlib-metadata>=4.8.3->jupyter-client<9,>=7.4.4->voila->-r requirements.txt (line 5)) (3.19.2)\n",
      "Requirement already satisfied: backcall in c:\\users\\caris\\miniconda3\\envs\\roar_py\\lib\\site-packages (from ipython>=7.23.1->ipykernel->jupyter->-r requirements.txt (line 4)) (0.2.0)\n",
      "Requirement already satisfied: decorator in c:\\users\\caris\\miniconda3\\envs\\roar_py\\lib\\site-packages (from ipython>=7.23.1->ipykernel->jupyter->-r requirements.txt (line 4)) (5.1.1)\n",
      "Requirement already satisfied: jedi>=0.16 in c:\\users\\caris\\miniconda3\\envs\\roar_py\\lib\\site-packages (from ipython>=7.23.1->ipykernel->jupyter->-r requirements.txt (line 4)) (0.19.1)\n",
      "Requirement already satisfied: pickleshare in c:\\users\\caris\\miniconda3\\envs\\roar_py\\lib\\site-packages (from ipython>=7.23.1->ipykernel->jupyter->-r requirements.txt (line 4)) (0.7.5)\n",
      "Requirement already satisfied: stack-data in c:\\users\\caris\\miniconda3\\envs\\roar_py\\lib\\site-packages (from ipython>=7.23.1->ipykernel->jupyter->-r requirements.txt (line 4)) (0.6.2)\n",
      "Requirement already satisfied: colorama in c:\\users\\caris\\miniconda3\\envs\\roar_py\\lib\\site-packages (from ipython>=7.23.1->ipykernel->jupyter->-r requirements.txt (line 4)) (0.4.6)\n",
      "Requirement already satisfied: attrs>=22.2.0 in c:\\users\\caris\\miniconda3\\envs\\roar_py\\lib\\site-packages (from jsonschema>=4.18.0->jupyterlab-server<3,>=2.3.0->voila->-r requirements.txt (line 5)) (24.2.0)\n",
      "Requirement already satisfied: importlib-resources>=1.4.0 in c:\\users\\caris\\miniconda3\\envs\\roar_py\\lib\\site-packages (from jsonschema>=4.18.0->jupyterlab-server<3,>=2.3.0->voila->-r requirements.txt (line 5)) (6.4.0)\n",
      "Requirement already satisfied: jsonschema-specifications>=2023.03.6 in c:\\users\\caris\\miniconda3\\envs\\roar_py\\lib\\site-packages (from jsonschema>=4.18.0->jupyterlab-server<3,>=2.3.0->voila->-r requirements.txt (line 5)) (2023.12.1)\n",
      "Requirement already satisfied: pkgutil-resolve-name>=1.3.10 in c:\\users\\caris\\miniconda3\\envs\\roar_py\\lib\\site-packages (from jsonschema>=4.18.0->jupyterlab-server<3,>=2.3.0->voila->-r requirements.txt (line 5)) (1.3.10)\n",
      "Requirement already satisfied: referencing>=0.28.4 in c:\\users\\caris\\miniconda3\\envs\\roar_py\\lib\\site-packages (from jsonschema>=4.18.0->jupyterlab-server<3,>=2.3.0->voila->-r requirements.txt (line 5)) (0.35.1)\n",
      "Requirement already satisfied: rpds-py>=0.7.1 in c:\\users\\caris\\miniconda3\\envs\\roar_py\\lib\\site-packages (from jsonschema>=4.18.0->jupyterlab-server<3,>=2.3.0->voila->-r requirements.txt (line 5)) (0.19.1)\n",
      "Requirement already satisfied: python-json-logger>=2.0.4 in c:\\users\\caris\\miniconda3\\envs\\roar_py\\lib\\site-packages (from jupyter-events>=0.9.0->jupyter-server<3,>=2.0.0->voila->-r requirements.txt (line 5)) (2.0.7)\n",
      "Requirement already satisfied: pyyaml>=5.3 in c:\\users\\caris\\miniconda3\\envs\\roar_py\\lib\\site-packages (from jupyter-events>=0.9.0->jupyter-server<3,>=2.0.0->voila->-r requirements.txt (line 5)) (6.0.1)\n",
      "Requirement already satisfied: rfc3339-validator in c:\\users\\caris\\miniconda3\\envs\\roar_py\\lib\\site-packages (from jupyter-events>=0.9.0->jupyter-server<3,>=2.0.0->voila->-r requirements.txt (line 5)) (0.1.4)\n",
      "Requirement already satisfied: rfc3986-validator>=0.1.1 in c:\\users\\caris\\miniconda3\\envs\\roar_py\\lib\\site-packages (from jupyter-events>=0.9.0->jupyter-server<3,>=2.0.0->voila->-r requirements.txt (line 5)) (0.1.1)\n",
      "Requirement already satisfied: async-lru>=1.0.0 in c:\\users\\caris\\miniconda3\\envs\\roar_py\\lib\\site-packages (from jupyterlab<4.3,>=4.2.0->notebook->jupyter->-r requirements.txt (line 4)) (2.0.4)\n",
      "Requirement already satisfied: httpx>=0.25.0 in c:\\users\\caris\\miniconda3\\envs\\roar_py\\lib\\site-packages (from jupyterlab<4.3,>=4.2.0->notebook->jupyter->-r requirements.txt (line 4)) (0.27.0)\n",
      "Requirement already satisfied: jupyter-lsp>=2.0.0 in c:\\users\\caris\\miniconda3\\envs\\roar_py\\lib\\site-packages (from jupyterlab<4.3,>=4.2.0->notebook->jupyter->-r requirements.txt (line 4)) (2.2.5)\n",
      "Requirement already satisfied: setuptools>=40.1.0 in c:\\users\\caris\\miniconda3\\envs\\roar_py\\lib\\site-packages (from jupyterlab<4.3,>=4.2.0->notebook->jupyter->-r requirements.txt (line 4)) (69.5.1)\n",
      "Requirement already satisfied: tomli>=1.2.2 in c:\\users\\caris\\miniconda3\\envs\\roar_py\\lib\\site-packages (from jupyterlab<4.3,>=4.2.0->notebook->jupyter->-r requirements.txt (line 4)) (2.0.1)\n",
      "Requirement already satisfied: fastjsonschema>=2.15 in c:\\users\\caris\\miniconda3\\envs\\roar_py\\lib\\site-packages (from nbformat>=5.3.0->jupyter-server<3,>=2.0.0->voila->-r requirements.txt (line 5)) (2.20.0)\n",
      "Requirement already satisfied: wcwidth in c:\\users\\caris\\miniconda3\\envs\\roar_py\\lib\\site-packages (from prompt-toolkit>=3.0.30->jupyter-console->jupyter->-r requirements.txt (line 4)) (0.2.13)\n",
      "Requirement already satisfied: charset-normalizer<4,>=2 in c:\\users\\caris\\miniconda3\\envs\\roar_py\\lib\\site-packages (from requests>=2.31->jupyterlab-server<3,>=2.3.0->voila->-r requirements.txt (line 5)) (3.3.2)\n",
      "Requirement already satisfied: urllib3<3,>=1.21.1 in c:\\users\\caris\\miniconda3\\envs\\roar_py\\lib\\site-packages (from requests>=2.31->jupyterlab-server<3,>=2.3.0->voila->-r requirements.txt (line 5)) (2.2.2)\n",
      "Requirement already satisfied: certifi>=2017.4.17 in c:\\users\\caris\\miniconda3\\envs\\roar_py\\lib\\site-packages (from requests>=2.31->jupyterlab-server<3,>=2.3.0->voila->-r requirements.txt (line 5)) (2024.7.4)\n",
      "Requirement already satisfied: soupsieve>1.2 in c:\\users\\caris\\miniconda3\\envs\\roar_py\\lib\\site-packages (from beautifulsoup4->nbconvert->jupyter->-r requirements.txt (line 4)) (2.5)\n",
      "Requirement already satisfied: httpcore==1.* in c:\\users\\caris\\miniconda3\\envs\\roar_py\\lib\\site-packages (from httpx>=0.25.0->jupyterlab<4.3,>=4.2.0->notebook->jupyter->-r requirements.txt (line 4)) (1.0.5)\n",
      "Requirement already satisfied: h11<0.15,>=0.13 in c:\\users\\caris\\miniconda3\\envs\\roar_py\\lib\\site-packages (from httpcore==1.*->httpx>=0.25.0->jupyterlab<4.3,>=4.2.0->notebook->jupyter->-r requirements.txt (line 4)) (0.14.0)\n",
      "Requirement already satisfied: parso<0.9.0,>=0.8.3 in c:\\users\\caris\\miniconda3\\envs\\roar_py\\lib\\site-packages (from jedi>=0.16->ipython>=7.23.1->ipykernel->jupyter->-r requirements.txt (line 4)) (0.8.4)\n",
      "Requirement already satisfied: fqdn in c:\\users\\caris\\miniconda3\\envs\\roar_py\\lib\\site-packages (from jsonschema[format-nongpl]>=4.18.0->jupyter-events>=0.9.0->jupyter-server<3,>=2.0.0->voila->-r requirements.txt (line 5)) (1.5.1)\n",
      "Requirement already satisfied: isoduration in c:\\users\\caris\\miniconda3\\envs\\roar_py\\lib\\site-packages (from jsonschema[format-nongpl]>=4.18.0->jupyter-events>=0.9.0->jupyter-server<3,>=2.0.0->voila->-r requirements.txt (line 5)) (20.11.0)\n",
      "Requirement already satisfied: jsonpointer>1.13 in c:\\users\\caris\\miniconda3\\envs\\roar_py\\lib\\site-packages (from jsonschema[format-nongpl]>=4.18.0->jupyter-events>=0.9.0->jupyter-server<3,>=2.0.0->voila->-r requirements.txt (line 5)) (3.0.0)\n",
      "Requirement already satisfied: uri-template in c:\\users\\caris\\miniconda3\\envs\\roar_py\\lib\\site-packages (from jsonschema[format-nongpl]>=4.18.0->jupyter-events>=0.9.0->jupyter-server<3,>=2.0.0->voila->-r requirements.txt (line 5)) (1.3.0)\n",
      "Requirement already satisfied: webcolors>=24.6.0 in c:\\users\\caris\\miniconda3\\envs\\roar_py\\lib\\site-packages (from jsonschema[format-nongpl]>=4.18.0->jupyter-events>=0.9.0->jupyter-server<3,>=2.0.0->voila->-r requirements.txt (line 5)) (24.6.0)\n",
      "Requirement already satisfied: cffi>=1.0.1 in c:\\users\\caris\\miniconda3\\envs\\roar_py\\lib\\site-packages (from argon2-cffi-bindings->argon2-cffi>=21.1->jupyter-server<3,>=2.0.0->voila->-r requirements.txt (line 5)) (1.16.0)\n",
      "Requirement already satisfied: executing>=1.2.0 in c:\\users\\caris\\miniconda3\\envs\\roar_py\\lib\\site-packages (from stack-data->ipython>=7.23.1->ipykernel->jupyter->-r requirements.txt (line 4)) (2.0.1)\n",
      "Requirement already satisfied: asttokens>=2.1.0 in c:\\users\\caris\\miniconda3\\envs\\roar_py\\lib\\site-packages (from stack-data->ipython>=7.23.1->ipykernel->jupyter->-r requirements.txt (line 4)) (2.4.1)\n",
      "Requirement already satisfied: pure-eval in c:\\users\\caris\\miniconda3\\envs\\roar_py\\lib\\site-packages (from stack-data->ipython>=7.23.1->ipykernel->jupyter->-r requirements.txt (line 4)) (0.2.3)\n",
      "Requirement already satisfied: pycparser in c:\\users\\caris\\miniconda3\\envs\\roar_py\\lib\\site-packages (from cffi>=1.0.1->argon2-cffi-bindings->argon2-cffi>=21.1->jupyter-server<3,>=2.0.0->voila->-r requirements.txt (line 5)) (2.22)\n",
      "Requirement already satisfied: arrow>=0.15.0 in c:\\users\\caris\\miniconda3\\envs\\roar_py\\lib\\site-packages (from isoduration->jsonschema[format-nongpl]>=4.18.0->jupyter-events>=0.9.0->jupyter-server<3,>=2.0.0->voila->-r requirements.txt (line 5)) (1.3.0)\n",
      "Requirement already satisfied: types-python-dateutil>=2.8.10 in c:\\users\\caris\\miniconda3\\envs\\roar_py\\lib\\site-packages (from arrow>=0.15.0->isoduration->jsonschema[format-nongpl]>=4.18.0->jupyter-events>=0.9.0->jupyter-server<3,>=2.0.0->voila->-r requirements.txt (line 5)) (2.9.0.20240316)\n"
     ]
    },
    {
     "name": "stderr",
     "output_type": "stream",
     "text": [
      "(Deprecated) Installing extensions with the jupyter labextension install command is now deprecated and will be removed in a future major version of JupyterLab.\n",
      "\n",
      "Users should manage prebuilt extensions with package managers like pip and conda, and extension authors are encouraged to distribute their extensions as prebuilt packages \n",
      "C:\\Users\\caris\\miniconda3\\envs\\roar_py\\lib\\site-packages\\jupyterlab\\debuglog.py:54: UserWarning: An error occurred.\n",
      "  warnings.warn(\"An error occurred.\")\n",
      "C:\\Users\\caris\\miniconda3\\envs\\roar_py\\lib\\site-packages\\jupyterlab\\debuglog.py:55: UserWarning: ValueError: Please install Node.js and npm before continuing installation. You may be able to install Node.js from your package manager, from conda, or directly from the Node.js website (https://nodejs.org).\n",
      "  warnings.warn(msg[-1].strip())\n",
      "C:\\Users\\caris\\miniconda3\\envs\\roar_py\\lib\\site-packages\\jupyterlab\\debuglog.py:56: UserWarning: See the log file for details: C:\\Users\\caris\\AppData\\Local\\Temp\\jupyterlab-debug-p7wqz1ro.log\n",
      "  warnings.warn(f\"See the log file for details: {log_path!s}\")\n",
      "usage: jupyter [-h] [--version] [--config-dir] [--data-dir] [--runtime-dir]\n",
      "               [--paths] [--json] [--debug]\n",
      "               [subcommand]\n",
      "\n",
      "Jupyter: Interactive Computing\n",
      "\n",
      "positional arguments:\n",
      "  subcommand     the subcommand to launch\n",
      "\n",
      "optional arguments:\n",
      "  -h, --help     show this help message and exit\n",
      "  --version      show the versions of core jupyter packages and exit\n",
      "  --config-dir   show Jupyter config dir\n",
      "  --data-dir     show Jupyter data dir\n",
      "  --runtime-dir  show Jupyter runtime dir\n",
      "  --paths        show all Jupyter paths. Add --json for machine-readable\n",
      "                 format.\n",
      "  --json         output paths as machine-readable json\n",
      "  --debug        output debug information about paths\n",
      "\n",
      "Available subcommands: console dejavu events execute kernel kernelspec lab\n",
      "labextension labhub migrate nbconvert notebook qtconsole run script server\n",
      "troubleshoot trust\n",
      "\n",
      "Jupyter command `jupyter-nbextension` not found.\n"
     ]
    }
   ],
   "source": [
    "!pip install -r requirements.txt\n",
    "!jupyter labextension install @jupyter-widgets/jupyterlab-manager\n",
    "!jupyter nbextension enable --py widgetsnbextension"
   ]
  },
  {
   "cell_type": "code",
   "execution_count": 2,
   "id": "0d27505f",
   "metadata": {},
   "outputs": [],
   "source": [
    "from conformalMaps.grids import *\n",
    "from conformalMaps.mappings import RectangleToEccentricAnnulus, RectangleToEllipticAnnulus, ConcentricAnnulusToEccentricAnnulus\n",
    "from ipywidgets import widgets\n",
    "from ipywidgets import HBox,VBox"
   ]
  },
  {
   "cell_type": "markdown",
   "id": "aad5d9f7",
   "metadata": {},
   "source": [
    "# Using Rectangle grid"
   ]
  },
  {
   "cell_type": "code",
   "execution_count": 3,
   "id": "95c83ddc",
   "metadata": {},
   "outputs": [
    {
     "data": {
      "application/vnd.jupyter.widget-view+json": {
       "model_id": "adcbd9296dec4fe693a2b493451feefb",
       "version_major": 2,
       "version_minor": 0
      },
      "text/plain": [
       "VBox(children=(HBox(children=(VBox(children=(FloatSlider(value=-1.0, description='left', max=10.0, min=-10.0),…"
      ]
     },
     "execution_count": 3,
     "metadata": {},
     "output_type": "execute_result"
    }
   ],
   "source": [
    "rect = Rectangle()\n",
    "\n",
    "left = widgets.FloatSlider(min=-10, max=10, value=-1, description='left')\n",
    "bottom = widgets.FloatSlider(min=-10, max=10, value=-1, description='bottom')\n",
    "\n",
    "top = widgets.FloatSlider(min=-10, max=10, value=1, description='top')\n",
    "right = widgets.FloatSlider(min=-10, max=10, value=1, description='right')\n",
    "\n",
    "fine = widgets.IntSlider(min = 20, max = 100, value=50, description='Fine')\n",
    "\n",
    "Hticks = widgets.IntSlider(min = 2, max = 50, value=10, description='Hticks')\n",
    "Vticks = widgets.IntSlider(min = 2, max = 50, value=10, description='Vticks')\n",
    "\n",
    "\n",
    "function = widgets.Text( value = 'z**2' , description='w : ')\n",
    "\n",
    "frame = widgets.FloatSlider(min=0, max=100, value=100, step = 5, description='anim')\n",
    "\n",
    "play = widgets.Play(min= 0, max = 100, step = 5)\n",
    "widgets.jslink((play, 'value'), (frame, 'value'))\n",
    "\n",
    "interactive_plot = widgets.interactive(rect.updateFunc,\n",
    "                                       w = function,\n",
    "                                       left = left,\n",
    "                                       right = right,\n",
    "                                       top= top,\n",
    "                                       bottom = bottom,\n",
    "                                       fine = fine,\n",
    "                                      Hticks = Hticks,\n",
    "                                      Vticks = Vticks,\n",
    "                                      frame = frame\n",
    "                                      )\n",
    "\n",
    "\n",
    "w1 = VBox([ left, right])\n",
    "w2 = VBox([top,bottom])\n",
    "w3 = VBox([Hticks,Vticks])\n",
    "w4 = HBox([w1,w2,w3])\n",
    "\n",
    "w5 = HBox([function, fine])\n",
    "\n",
    "anim_slider = HBox([play, frame])\n",
    "\n",
    "w = VBox([w4, w5, anim_slider, rect.show()])\n",
    "\n",
    "w"
   ]
  },
  {
   "cell_type": "code",
   "execution_count": 4,
   "id": "e1aa3b19",
   "metadata": {},
   "outputs": [
    {
     "name": "stdout",
     "output_type": "stream",
     "text": [
      "The function is conformal, angles are preserved :)\n"
     ]
    },
    {
     "data": {
      "text/plain": [
       "True"
      ]
     },
     "execution_count": 4,
     "metadata": {},
     "output_type": "execute_result"
    }
   ],
   "source": [
    "rect.check_analytic()"
   ]
  },
  {
   "cell_type": "markdown",
   "id": "cd155af1",
   "metadata": {},
   "source": [
    "# Using Square Grid"
   ]
  },
  {
   "cell_type": "code",
   "execution_count": 5,
   "id": "748d086c",
   "metadata": {},
   "outputs": [
    {
     "data": {
      "application/vnd.jupyter.widget-view+json": {
       "model_id": "aa54b0899ac642f0a8213f7614f7711a",
       "version_major": 2,
       "version_minor": 0
      },
      "text/plain": [
       "VBox(children=(HBox(children=(FloatSlider(value=1.0, description='side', max=10.0, min=0.01), IntSlider(value=…"
      ]
     },
     "execution_count": 5,
     "metadata": {},
     "output_type": "execute_result"
    }
   ],
   "source": [
    "sq = Square()\n",
    "\n",
    "side = widgets.FloatSlider(min=0.01, max=10, value=1, description='side')\n",
    "\n",
    "fine = widgets.IntSlider(min = 20, max = 100, value=50, description='Fine')\n",
    "\n",
    "Hticks = widgets.IntSlider(min = 2, max = 50, value=10, description='Hticks')\n",
    "Vticks = widgets.IntSlider(min = 2, max = 50, value=10, description='Vticks')\n",
    "\n",
    "\n",
    "function = widgets.Text( value = 'z**2' , description='w : ')\n",
    "\n",
    "frame = widgets.FloatSlider(min=0, max=100, value=100, step = 5, description='anim')\n",
    "\n",
    "play = widgets.Play(min= 0, max = 100, step = 5)\n",
    "widgets.jslink((play, 'value'), (frame, 'value'))\n",
    "\n",
    "\n",
    "interactive_plot = widgets.interactive(sq.updateFunc,\n",
    "                                       w = function,\n",
    "                                       side = side,\n",
    "                                       fine = fine,\n",
    "                                      Hticks = Hticks,\n",
    "                                      Vticks = Vticks,\n",
    "                                      frame = frame\n",
    "                                      )\n",
    "\n",
    "# w1 = VBox([ left, right])\n",
    "# w2 = VBox([top,bottom])\n",
    "box1 = HBox([side, Hticks,Vticks])\n",
    "\n",
    "box2 = HBox([function, fine])\n",
    "\n",
    "anim_slider = HBox([play, frame])\n",
    "\n",
    "w = VBox([box1, box2, anim_slider, sq.show()])\n",
    "\n",
    "w"
   ]
  },
  {
   "cell_type": "code",
   "execution_count": 6,
   "id": "c2fe6744",
   "metadata": {},
   "outputs": [
    {
     "name": "stdout",
     "output_type": "stream",
     "text": [
      "The function is conformal, angles are preserved :)\n"
     ]
    },
    {
     "data": {
      "text/plain": [
       "True"
      ]
     },
     "execution_count": 6,
     "metadata": {},
     "output_type": "execute_result"
    }
   ],
   "source": [
    "sq.check_analytic()"
   ]
  },
  {
   "cell_type": "code",
   "execution_count": 7,
   "id": "bc9bd6e6",
   "metadata": {},
   "outputs": [
    {
     "data": {
      "application/vnd.jupyter.widget-view+json": {
       "model_id": "3421dc44267b448b9c9e6d3e6fe7e0ae",
       "version_major": 2,
       "version_minor": 0
      },
      "text/plain": [
       "VBox(children=(HBox(children=(FloatSlider(value=1.0, description='side', max=10.0, min=0.01), IntSlider(value=…"
      ]
     },
     "execution_count": 7,
     "metadata": {},
     "output_type": "execute_result"
    }
   ],
   "source": [
    "r = sym.sqrt(x**2+y**2)\n",
    "\n",
    "f = x*(sym.sqrt(x**2+y**2-x**2*y**2))/r + sym.I*y*(sym.sqrt(x**2+y**2-x**2*y**2))/r # transforms unit square\n",
    "\n",
    "sq2 = Square()\n",
    "\n",
    "side = widgets.FloatSlider(min=0.01, max=10, value=1, description='side')\n",
    "\n",
    "fine = widgets.IntSlider(min = 20, max = 100, value=50, description='Fine')\n",
    "\n",
    "Hticks = widgets.IntSlider(min = 2, max = 50, value=10, description='Hticks')\n",
    "Vticks = widgets.IntSlider(min = 2, max = 50, value=10, description='Vticks')\n",
    "\n",
    "\n",
    "function = widgets.Text(  value = '%s' %(f) , description='w : ')\n",
    "\n",
    "frame = widgets.FloatSlider(min=0, max=100, value=100, step = 5, description='anim')\n",
    "\n",
    "play = widgets.Play(min= 0, max = 100, step = 5)\n",
    "widgets.jslink((play, 'value'), (frame, 'value'))\n",
    "\n",
    "\n",
    "interactive_plot = widgets.interactive(sq2.updateFunc,\n",
    "                                       w = function,\n",
    "                                       side = side,\n",
    "                                       fine = fine,\n",
    "                                      Hticks = Hticks,\n",
    "                                      Vticks = Vticks,\n",
    "                                      frame = frame\n",
    "                                      )\n",
    "\n",
    "# w1 = VBox([ left, right])\n",
    "# w2 = VBox([top,bottom])\n",
    "box1 = HBox([side, Hticks,Vticks])\n",
    "\n",
    "box2 = HBox([function, fine])\n",
    "\n",
    "anim_slider = HBox([play, frame])\n",
    "\n",
    "w = VBox([box1, box2, anim_slider, sq2.show()])\n",
    "\n",
    "w\n"
   ]
  },
  {
   "cell_type": "code",
   "execution_count": 9,
   "id": "dc68cb13",
   "metadata": {},
   "outputs": [
    {
     "name": "stdout",
     "output_type": "stream",
     "text": [
      "The function is not conformal, angles are not preserved ...\n"
     ]
    },
    {
     "data": {
      "text/plain": [
       "False"
      ]
     },
     "execution_count": 9,
     "metadata": {},
     "output_type": "execute_result"
    }
   ],
   "source": [
    "sq2.check_analytic()"
   ]
  },
  {
   "cell_type": "markdown",
   "id": "5763ed4f",
   "metadata": {},
   "source": [
    "# Using Donut Grid"
   ]
  },
  {
   "cell_type": "code",
   "execution_count": 10,
   "id": "f51e3b17",
   "metadata": {},
   "outputs": [
    {
     "data": {
      "application/vnd.jupyter.widget-view+json": {
       "model_id": "5bf74cd88d5a4cf494fe8c19a00cbdc7",
       "version_major": 2,
       "version_minor": 0
      },
      "text/plain": [
       "VBox(children=(HBox(children=(VBox(children=(FloatSlider(value=1.0, description='Rin', max=10.0), FloatSlider(…"
      ]
     },
     "execution_count": 10,
     "metadata": {},
     "output_type": "execute_result"
    }
   ],
   "source": [
    "donut = Donut()\n",
    "\n",
    "rin = widgets.FloatSlider(min=0, max=10, value=1, description='Rin')\n",
    "rout = widgets.FloatSlider(min=1, max=20, value=3, description='Rout')\n",
    "\n",
    "x0 = widgets.FloatSlider(min=-10, max=10, value=0, description='x0')\n",
    "y0 = widgets.FloatSlider(min=-10, max=10, value=0, description='y0')\n",
    "\n",
    "cticks = widgets.IntSlider(min = 2, max = 50, value=4, description='cticks')\n",
    "rticks = widgets.IntSlider(min = 2, max = 50, value=4, description='rticks')\n",
    "\n",
    "fine = widgets.IntSlider(min = 20, max = 100, value=50, description='Fine')\n",
    "\n",
    "function = widgets.Text( value = 'z**2' , description='w : ')\n",
    "\n",
    "frame = widgets.FloatSlider(min=0, max=100, value=100, step = 2, description='anim')\n",
    "\n",
    "play = widgets.Play(min= 0, max = 100, step = 5)\n",
    "widgets.jslink((play, 'value'), (frame, 'value'))\n",
    "\n",
    "interactive_plot = widgets.interactive(donut.updateFunc,\n",
    "                                       rin = rin,\n",
    "                                       rout = rout,\n",
    "                                       x0 = x0,\n",
    "                                       y0 = y0,\n",
    "                                       fine = fine,\n",
    "                                       cticks = cticks,\n",
    "                                       rticks = rticks,\n",
    "                                       w = function,\n",
    "                                       frame = frame)\n",
    "\n",
    "radius = VBox([rin, rout])\n",
    "offset = VBox([x0, y0])\n",
    "ticks = VBox([cticks, rticks])\n",
    "group = HBox([radius, offset,ticks])\n",
    "animation = HBox([play, frame])\n",
    "\n",
    "w1 = VBox([group, HBox([fine, function]), animation, donut.show()])\n",
    "\n",
    "w1"
   ]
  },
  {
   "cell_type": "code",
   "execution_count": 11,
   "id": "f9560acc",
   "metadata": {},
   "outputs": [
    {
     "name": "stdout",
     "output_type": "stream",
     "text": [
      "The function is conformal, angles are preserved :)\n"
     ]
    },
    {
     "data": {
      "text/plain": [
       "True"
      ]
     },
     "execution_count": 11,
     "metadata": {},
     "output_type": "execute_result"
    }
   ],
   "source": [
    "donut.check_analytic()"
   ]
  },
  {
   "cell_type": "markdown",
   "id": "b8bef93d",
   "metadata": {},
   "source": [
    "# Using Circle Grid"
   ]
  },
  {
   "cell_type": "code",
   "execution_count": 12,
   "id": "7f1a725a",
   "metadata": {},
   "outputs": [
    {
     "data": {
      "application/vnd.jupyter.widget-view+json": {
       "model_id": "2836ae4e8e3f4e2584381036f88aad85",
       "version_major": 2,
       "version_minor": 0
      },
      "text/plain": [
       "VBox(children=(HBox(children=(VBox(children=(FloatSlider(value=1.0, description='R', max=10.0, min=0.1), IntSl…"
      ]
     },
     "execution_count": 12,
     "metadata": {},
     "output_type": "execute_result"
    }
   ],
   "source": [
    "circle = Circle()\n",
    "\n",
    "r = widgets.FloatSlider(min=0.1, max=10, value=1, description='R')\n",
    "\n",
    "\n",
    "x0 = widgets.FloatSlider(min=-10, max=10, value=0, description='x0')\n",
    "y0 = widgets.FloatSlider(min=-10, max=10, value=0, description='y0')\n",
    "\n",
    "cticks = widgets.IntSlider(min = 2, max = 50, value=4, description='cticks')\n",
    "rticks = widgets.IntSlider(min = 0, max = 50, value=4, description='rticks')\n",
    "\n",
    "fine = widgets.IntSlider(min = 20, max = 100, value=50, description='Fine')\n",
    "\n",
    "function = widgets.Text( value = 'z**2' , description='w : ')\n",
    "\n",
    "frame = widgets.FloatSlider(min=0, max=100, value=100, step = 2, description='anim')\n",
    "\n",
    "play = widgets.Play(min= 0, max = 100, step = 2)\n",
    "widgets.jslink((play, 'value'), (frame, 'value'))\n",
    "\n",
    "interactive_plot = widgets.interactive(circle.updateFunc,\n",
    "                                       r = r,\n",
    "                                       x0 = x0,\n",
    "                                       y0 = y0,\n",
    "                                       fine = fine,\n",
    "                                       cticks = cticks,\n",
    "                                       rticks = rticks,\n",
    "                                       w = function,\n",
    "                                       frame = frame)\n",
    "\n",
    "radius = VBox([r, fine])\n",
    "offset = VBox([x0, y0])\n",
    "ticks = VBox([cticks, rticks])\n",
    "group = HBox([radius, offset,ticks])\n",
    "animation = HBox([play, frame])\n",
    "\n",
    "w1 = VBox([group, function, animation, circle.show()])\n",
    "\n",
    "w1\n",
    "# display(interactive_plot,circle.show())"
   ]
  },
  {
   "cell_type": "code",
   "execution_count": 13,
   "id": "7d2cb23f",
   "metadata": {},
   "outputs": [
    {
     "name": "stdout",
     "output_type": "stream",
     "text": [
      "The function is conformal, angles are preserved :)\n"
     ]
    },
    {
     "data": {
      "text/plain": [
       "True"
      ]
     },
     "execution_count": 13,
     "metadata": {},
     "output_type": "execute_result"
    }
   ],
   "source": [
    "circle.check_analytic()"
   ]
  },
  {
   "cell_type": "markdown",
   "id": "556b6a26",
   "metadata": {},
   "source": [
    "# Using Single_circle"
   ]
  },
  {
   "cell_type": "code",
   "execution_count": 14,
   "id": "b36a6db9",
   "metadata": {},
   "outputs": [
    {
     "data": {
      "application/vnd.jupyter.widget-view+json": {
       "model_id": "92a135f1abda446db64e35c11ad81b46",
       "version_major": 2,
       "version_minor": 0
      },
      "text/plain": [
       "VBox(children=(HBox(children=(VBox(children=(FloatSlider(value=1.08, description='R', max=10.0, min=0.1), IntS…"
      ]
     },
     "execution_count": 14,
     "metadata": {},
     "output_type": "execute_result"
    }
   ],
   "source": [
    "single = Single_circle(rticks=0)\n",
    "\n",
    "r = widgets.FloatSlider(min=0.1, max=10, value=1.08, description='R')\n",
    "\n",
    "\n",
    "x0 = widgets.FloatSlider(min=-10, max=10, value=-0.08, description='x0')\n",
    "y0 = widgets.FloatSlider(min=-10, max=10, value=0.08, description='y0')\n",
    "\n",
    "rticks = widgets.IntSlider(min = 0, max = 50, value=0, description='rticks')\n",
    "\n",
    "fine = widgets.IntSlider(min = 20, max = 100, value=50, description='Fine')\n",
    "\n",
    "function = widgets.Text( value = 'z+1/z' , description='w : ')\n",
    "\n",
    "frame = widgets.FloatSlider(min=0, max=100, value=100, step = 2, description='anim')\n",
    "\n",
    "play = widgets.Play(min= 0, max = 100, step = 2)\n",
    "widgets.jslink((play, 'value'), (frame, 'value'))\n",
    "\n",
    "interactive_plot = widgets.interactive(single.updateFunc,\n",
    "                                       r = r,\n",
    "                                       x0 = x0,\n",
    "                                       y0 = y0,\n",
    "                                       fine = fine,\n",
    "                                       rticks = rticks,\n",
    "                                       w = function,\n",
    "                                       frame = frame)\n",
    "\n",
    "radius = VBox([r, fine])\n",
    "offset = VBox([x0, y0])\n",
    "# ticks = VBox([cticks, rticks])\n",
    "group = HBox([radius, offset,rticks])\n",
    "animation = HBox([play, frame])\n",
    "\n",
    "w1 = VBox([group, function, animation, single.show()])\n",
    "\n",
    "w1"
   ]
  },
  {
   "cell_type": "code",
   "execution_count": 15,
   "id": "371b13a1",
   "metadata": {},
   "outputs": [
    {
     "name": "stdout",
     "output_type": "stream",
     "text": [
      "The function is conformal, angles are preserved :)\n"
     ]
    },
    {
     "data": {
      "text/plain": [
       "True"
      ]
     },
     "execution_count": 15,
     "metadata": {},
     "output_type": "execute_result"
    }
   ],
   "source": [
    "single.check_analytic()"
   ]
  },
  {
   "cell_type": "markdown",
   "id": "1e9c9200",
   "metadata": {},
   "source": [
    "# Using Builtin complicated functions for w\n",
    "\n",
    "In engineering one may be interested in soling the Laplace in Poisson equation in \"complicated\" domains as eccentric annuli or elliptic annuli. With the help of builtin functions from ```conformalMaps``` one can see how those domains are conformally related to simple domains as eccentric annuli or rectangles."
   ]
  },
  {
   "cell_type": "markdown",
   "id": "229ee54b",
   "metadata": {},
   "source": [
    "### using EccentricAnnulus as w\n",
    "Mapping a cetrain rectangle to a specific eccentric annulus (donuts)"
   ]
  },
  {
   "cell_type": "code",
   "execution_count": 16,
   "id": "206227ba",
   "metadata": {},
   "outputs": [
    {
     "data": {
      "application/vnd.jupyter.widget-view+json": {
       "model_id": "f11ae45f98384129a7284c2359e140a6",
       "version_major": 2,
       "version_minor": 0
      },
      "text/plain": [
       "VBox(children=(HBox(children=(VBox(children=(FloatSlider(value=-3.141592653589793, description='left', max=10.…"
      ]
     },
     "execution_count": 16,
     "metadata": {},
     "output_type": "execute_result"
    }
   ],
   "source": [
    "R1 = 4 # inner radius of target eccentric annulus\n",
    "R2 = 7.6 # outer radius of target eccentric annulus\n",
    "ep = 0.7 # relative eccentricity of target eccentric annulus\n",
    "\n",
    "trans = RectangleToEccentricAnnulus(R1, R2, ep)\n",
    "\n",
    "\n",
    "rect = Rectangle()\n",
    "\n",
    "left = widgets.FloatSlider(min=-10, max=10, value=-pi, description='left')\n",
    "right = widgets.FloatSlider(min=-10, max=10, value=pi, description='right')\n",
    "\n",
    "top = widgets.FloatSlider(min=-10, max=10, value=1.5, description='top')\n",
    "bottom = widgets.FloatSlider(min=-10, max=10, value=0.8, description='bottom')\n",
    "\n",
    "\n",
    "fine = widgets.IntSlider(min = 20, max = 100, value=50, description='Fine')\n",
    "\n",
    "Hticks = widgets.IntSlider(min = 2, max = 50, value=10, description='Hticks')\n",
    "Vticks = widgets.IntSlider(min = 2, max = 50, value=20, description='Vticks')\n",
    "\n",
    "\n",
    "function = widgets.Text( value = '{0}'.format(trans.mapping(z)) , description='w : ')\n",
    "\n",
    "frame = widgets.FloatSlider(min=0, max=100, value=100, step = 5, description='anim')\n",
    "\n",
    "play = widgets.Play(min= 0, max = 100, step = 5)\n",
    "# widgets.jslink((frame, 'value'), (play, 'value'))\n",
    "widgets.jslink((play, 'value'), (frame, 'value'))\n",
    "\n",
    "interactive_plot = widgets.interactive(rect.updateFunc,\n",
    "                                       w = function,\n",
    "                                       left = left,\n",
    "                                       right = right,\n",
    "                                       top= top,\n",
    "                                       bottom = bottom,\n",
    "                                       fine = fine,\n",
    "                                      Hticks = Hticks,\n",
    "                                      Vticks = Vticks,\n",
    "                                      frame = frame\n",
    "                                      )\n",
    "\n",
    "\n",
    "w1 = VBox([ left, right])\n",
    "w2 = VBox([top,bottom])\n",
    "w3 = VBox([Hticks,Vticks])\n",
    "w4 = HBox([w1,w2,w3])\n",
    "\n",
    "w5 = HBox([function, fine])\n",
    "\n",
    "anim_slider = HBox([play, frame])\n",
    "\n",
    "w = VBox([w4, w5, anim_slider, rect.show()])\n",
    "\n",
    "w\n",
    "\n"
   ]
  },
  {
   "cell_type": "markdown",
   "id": "4e149f17",
   "metadata": {},
   "source": [
    "### using EccentricAnnulus as w\n",
    "Mapping a cetrain donur or concentric annulus to a specific eccentric annulus (donuts)"
   ]
  },
  {
   "cell_type": "code",
   "execution_count": 17,
   "id": "9f65b4d8",
   "metadata": {},
   "outputs": [
    {
     "data": {
      "application/vnd.jupyter.widget-view+json": {
       "model_id": "545fa1d4e6eb4d168e96b02432d9447b",
       "version_major": 2,
       "version_minor": 0
      },
      "text/plain": [
       "VBox(children=(HBox(children=(VBox(children=(FloatSlider(value=1.0, description='Rin', max=10.0), FloatSlider(…"
      ]
     },
     "execution_count": 17,
     "metadata": {},
     "output_type": "execute_result"
    }
   ],
   "source": [
    "R1 = 4 # inner radius of target eccentric annulus\n",
    "R2 = 7.6 # outer radius of target eccentric annulus\n",
    "ep = 0.7 # relative eccentricity of target eccentric annulus\n",
    "\n",
    "trans = ConcentricAnnulusToEccentricAnnulus(R1, R2, ep)\n",
    "\n",
    "\n",
    "donut = Donut()\n",
    "\n",
    "\n",
    "\n",
    "\n",
    "rin = widgets.FloatSlider(min=0, max=10, value=trans.rin, description='Rin')\n",
    "rout = widgets.FloatSlider(min=1, max=20, value=trans.rout, description='Rout')\n",
    "\n",
    "x0 = widgets.FloatSlider(min=-10, max=10, value=0, description='x0')\n",
    "y0 = widgets.FloatSlider(min=-10, max=10, value=0, description='y0')\n",
    "\n",
    "cticks = widgets.IntSlider(min = 2, max = 50, value=20, description='cticks')\n",
    "rticks = widgets.IntSlider(min = 2, max = 50, value=20, description='rticks')\n",
    "\n",
    "fine = widgets.IntSlider(min = 20, max = 100, value=50, description='Fine')\n",
    "\n",
    "function = widgets.Text( value = '%s' % (trans.mapping(z)) , description='w : ')\n",
    "\n",
    "frame = widgets.FloatSlider(min=0, max=100, value=100, step = 2, description='anim')\n",
    "\n",
    "play = widgets.Play(min= 0, max = 100, step = 5)\n",
    "widgets.jslink((play, 'value'), (frame, 'value'))\n",
    "\n",
    "interactive_plot = widgets.interactive(donut.updateFunc,\n",
    "                                       rin = rin,\n",
    "                                       rout = rout,\n",
    "                                       x0 = x0,\n",
    "                                       y0 = y0,\n",
    "                                       fine = fine,\n",
    "                                       cticks = cticks,\n",
    "                                       rticks = rticks,\n",
    "                                       w = function,\n",
    "                                       frame = frame)\n",
    "\n",
    "radius = VBox([rin, rout])\n",
    "offset = VBox([x0, y0])\n",
    "ticks = VBox([cticks, rticks])\n",
    "group = HBox([radius, offset,ticks])\n",
    "animation = HBox([play, frame])\n",
    "\n",
    "w1 = VBox([group, HBox([fine, function]), animation, donut.show()])\n",
    "\n",
    "w1\n"
   ]
  },
  {
   "cell_type": "markdown",
   "id": "f24ceaa9",
   "metadata": {},
   "source": [
    "### Using EllipticAnnulus as w\n",
    "Mapping a cetrain rectangle to a specific elliptic annulus (donut)"
   ]
  },
  {
   "cell_type": "code",
   "execution_count": 18,
   "id": "c286fff7",
   "metadata": {},
   "outputs": [
    {
     "data": {
      "application/vnd.jupyter.widget-view+json": {
       "model_id": "5b12ef1ef8f74320893196d87ea5b991",
       "version_major": 2,
       "version_minor": 0
      },
      "text/plain": [
       "VBox(children=(HBox(children=(VBox(children=(FloatSlider(value=0.27302255894601435, description='left', max=10…"
      ]
     },
     "execution_count": 18,
     "metadata": {},
     "output_type": "execute_result"
    }
   ],
   "source": [
    "a = 5 # half axis of outer ellipse\n",
    "\n",
    "b = 3.6 # half axis of inner ellipse\n",
    "\n",
    "trans = RectangleToEllipticAnnulus(b, a)\n",
    "\n",
    "\n",
    "rect = Rectangle()\n",
    "\n",
    "left = widgets.FloatSlider(min=-10, max=10, value=trans.left, description='left')\n",
    "right = widgets.FloatSlider(min=-10, max=10, value=trans.right, description='right')\n",
    "\n",
    "top = widgets.FloatSlider(min=-10, max=10, value=trans.top, description='top')\n",
    "bottom = widgets.FloatSlider(min=-10, max=10, value=trans.bottom, description='bottom')\n",
    "\n",
    "\n",
    "fine = widgets.IntSlider(min = 20, max = 100, value=50, description='Fine')\n",
    "\n",
    "Hticks = widgets.IntSlider(min = 2, max = 50, value=10, description='Hticks')\n",
    "Vticks = widgets.IntSlider(min = 2, max = 50, value=20, description='Vticks')\n",
    "\n",
    "\n",
    "function = widgets.Text( value = '{0}'.format(trans.mapping(z)) , description='w : ')\n",
    "\n",
    "frame = widgets.FloatSlider(min=0, max=100, value=100, step = 5, description='anim')\n",
    "\n",
    "play = widgets.Play(min= 0, max = 100, step = 5)\n",
    "# widgets.jslink((frame, 'value'), (play, 'value'))\n",
    "widgets.jslink((play, 'value'), (frame, 'value'))\n",
    "\n",
    "interactive_plot = widgets.interactive(rect.updateFunc,\n",
    "                                       w = function,\n",
    "                                       left = left,\n",
    "                                       right = right,\n",
    "                                       top= top,\n",
    "                                       bottom = bottom,\n",
    "                                       fine = fine,\n",
    "                                      Hticks = Hticks,\n",
    "                                      Vticks = Vticks,\n",
    "                                      frame = frame\n",
    "                                      )\n",
    "\n",
    "\n",
    "w1 = VBox([ left, right])\n",
    "w2 = VBox([top,bottom])\n",
    "w3 = VBox([Hticks,Vticks])\n",
    "w4 = HBox([w1,w2,w3])\n",
    "\n",
    "w5 = HBox([function, fine])\n",
    "\n",
    "anim_slider = HBox([play, frame])\n",
    "\n",
    "w = VBox([w4, w5, anim_slider, rect.show()])\n",
    "\n",
    "w\n",
    "\n"
   ]
  },
  {
   "cell_type": "code",
   "execution_count": 22,
   "id": "fd5d8696-bc6c-41ec-b7c8-c8c8512ea6ff",
   "metadata": {},
   "outputs": [
    {
     "data": {
      "image/png": "[encoded data removed]",
      "text/plain": [
       "<Figure size 1200x800 with 6 Axes>"
      ]
     },
     "metadata": {},
     "output_type": "display_data"
    }
   ],
   "source": [
    "import numpy as np\n",
    "import matplotlib.pyplot as plt\n",
    "\n",
    "# Define a set of curves\n",
    "def gamma1(t):\n",
    "    return t + 1j * np.sin(t)\n",
    "\n",
    "def gamma2(t):\n",
    "    return t + 1j * np.cos(t)\n",
    "\n",
    "def gamma3(t):\n",
    "    return np.sin(t) + 1j * np.cos(t)\n",
    "\n",
    "# Define the conformal map (exponential function)\n",
    "def conformal_map(z):\n",
    "    return np.exp(z)\n",
    "\n",
    "# Generate parameter values\n",
    "t_values = np.linspace(0, 2 * np.pi, 1000)\n",
    "\n",
    "# Compute the original curves\n",
    "original_curve1 = gamma1(t_values)\n",
    "original_curve2 = gamma2(t_values)\n",
    "original_curve3 = gamma3(t_values)\n",
    "\n",
    "# Apply the conformal map to the original curves\n",
    "transformed_curve1 = conformal_map(original_curve1)\n",
    "transformed_curve2 = conformal_map(original_curve2)\n",
    "transformed_curve3 = conformal_map(original_curve3)\n",
    "\n",
    "# Plot the original and transformed curves\n",
    "plt.figure(figsize=(12, 8))\n",
    "\n",
    "# Plot original curves\n",
    "plt.subplot(2, 3, 1)\n",
    "plt.plot(original_curve1.real, original_curve1.imag, label=\"Original Curve 1\")\n",
    "plt.title(\"Original Curve 1\")\n",
    "plt.xlabel(\"Re\")\n",
    "plt.ylabel(\"Im\")\n",
    "plt.legend()\n",
    "plt.axis('equal')\n",
    "\n",
    "plt.subplot(2, 3, 2)\n",
    "plt.plot(original_curve2.real, original_curve2.imag, label=\"Original Curve 2\")\n",
    "plt.title(\"Original Curve 2\")\n",
    "plt.xlabel(\"Re\")\n",
    "plt.ylabel(\"Im\")\n",
    "plt.legend()\n",
    "plt.axis('equal')\n",
    "\n",
    "plt.subplot(2, 3, 3)\n",
    "plt.plot(original_curve3.real, original_curve3.imag, label=\"Original Curve 3\")\n",
    "plt.title(\"Original Curve 3\")\n",
    "plt.xlabel(\"Re\")\n",
    "plt.ylabel(\"Im\")\n",
    "plt.legend()\n",
    "plt.axis('equal')\n",
    "\n",
    "# Plot transformed curves\n",
    "plt.subplot(2, 3, 4)\n",
    "plt.plot(transformed_curve1.real, transformed_curve1.imag, label=\"Transformed Curve 1\", color='orange')\n",
    "plt.title(\"Transformed Curve 1\")\n",
    "plt.xlabel(\"Re\")\n",
    "plt.ylabel(\"Im\")\n",
    "plt.legend()\n",
    "plt.axis('equal')\n",
    "\n",
    "plt.subplot(2, 3, 5)\n",
    "plt.plot(transformed_curve2.real, transformed_curve2.imag, label=\"Transformed Curve 2\", color='orange')\n",
    "plt.title(\"Transformed Curve 2\")\n",
    "plt.xlabel(\"Re\")\n",
    "plt.ylabel(\"Im\")\n",
    "plt.legend()\n",
    "plt.axis('equal')\n",
    "\n",
    "plt.subplot(2, 3, 6)\n",
    "plt.plot(transformed_curve3.real, transformed_curve3.imag, label=\"Transformed Curve 3\", color='orange')\n",
    "plt.title(\"Transformed Curve 3\")\n",
    "plt.xlabel(\"Re\")\n",
    "plt.ylabel(\"Im\")\n",
    "plt.legend()\n",
    "plt.axis('equal')\n",
    "\n",
    "plt.tight_layout()\n",
    "plt.show()"
   ]
  },
  {
   "cell_type": "code",
   "execution_count": 46,
   "id": "75097fb1",
   "metadata": {},
   "outputs": [
    {
     "name": "stdout",
     "output_type": "stream",
     "text": [
      "[(37.63455505, 160.16862421), (44.29532319, 149.98852606), (36.16375274, 158.81335382), (42.82451707, 148.63327094), (34.69294662, 157.45809869), (41.35371094, 147.27801581), (33.2221405, 156.10284357), (39.88290864, 145.92274542), (31.75133819, 154.74757318), (38.41210251, 144.5674903), (30.28053207, 153.39231805), (36.94130021, 143.21221991), (28.80972976, 152.03704767), (35.47049409, 141.85696478), (27.33892364, 150.68179254), (33.99968764, 140.50171001), (25.86811784, 149.32653706), (32.52888566, 139.14643927), (24.39731521, 147.97126703), (31.05807953, 137.79118414), (22.92650909, 146.6160119), (29.58727532, 136.43591376), (21.45570487, 145.26074152), (28.11647111, 135.08065863), (19.98490066, 143.90548639), (26.64566498, 133.7254035), (18.51409454, 142.55023126), (25.17486077, 132.37013312), (17.04329032, 141.19496088), (23.70405655, 131.01487799), (15.57248611, 139.83970575), (22.23325234, 129.65960761), (14.10168189, 138.48443536), (20.76244622, 128.30435248), (12.63087577, 137.12918024), (19.291642, 126.94909735), (11.16007156, 135.77392511), (17.82083779, 125.59382697), (9.68926734, 134.41865472), (16.35003358, 124.23857184), (8.21846313, 133.0633996), (14.87922745, 122.88330145), (6.74765701, 131.70812921), (13.40842515, 121.52804633), (5.2768547, 130.35287408), (11.93761709, 120.17277804), (3.80605052, 128.99760159), (10.4668129, 118.81752081), (2.33524246, 127.64234857), (9.00629497, 117.47019309), (0.85570454, 126.27745706), (7.5587292, 116.12517005), (-0.62702754, 124.89976282), (6.11655616, 114.77436021), (-2.10422706, 123.51613661), (4.67978574, 113.41778769), (-3.57590391, 122.12661539), (3.24843982, 112.05548927), (-5.04201893, 120.73122338), (1.82258112, 110.68749312), (-6.50251276, 119.32999345), (0.38688465, 109.30310831), (-7.94624325, 117.93785849), (-0.48125379, 108.35891542), (-9.78384096, 115.93927183), (-1.23070546, 107.31800204), (-11.37021999, 113.73596829), (-1.85079695, 106.19521503), (-12.6827762, 111.3593504), (-2.33269466, 105.00653976), (-13.70280872, 108.84326798), (-2.6695284, 103.76891622), (-14.41578921, 106.22357645), (-2.85650112, 102.49998122), (-14.81155728, 103.53760118), (-2.890297, 101.19101818), (-14.88545984, 100.85036365), (-2.83352095, 99.19181927), (-14.82868379, 98.85116474), (-2.7767449, 97.19262801), (-14.77190965, 96.85197343), (-2.71997076, 95.19342907), (-14.71513361, 94.85277454), (-2.66319472, 93.19423779), (-14.65835756, 92.85358326), (-2.60641867, 91.19504653), (-14.60158342, 90.85439195), (-2.54964453, 89.19585522), (-14.54480737, 88.85520069), (-2.49286848, 87.19665631), (-14.48803133, 86.85600177), (-2.43609244, 85.19746505), (-14.43125719, 84.85681046), (-2.3793183, 83.19826611), (-14.37448114, 82.85761158), (-2.32547214, 81.17444767), (-14.32192776, 80.88284908), (-2.28091266, 79.1470131), (-14.27859662, 78.91126022), (-2.24579149, 77.11938523), (-14.24444288, 76.93948318), (-2.22010818, 75.0916257), (-14.21946701, 74.9675784), (-2.20386322, 73.06375802), (-14.20366852, 72.99556815), (-2.19705565, 71.03584303), (-14.19704836, 71.02351366), (-2.19968499, 69.00791424), (-14.199607, 69.05144245), (-2.21178464, 66.98002248), (-14.2113721, 67.07941051), (-2.23328973, 64.95220887), (-14.23228644, 65.10745299), (-2.26423458, 62.92451904), (-14.26237674, 63.13561585), (-2.30464638, 60.89699169), (-14.30167686, 61.16393665), (-2.3544655, 58.86967704), (-14.35012435, 59.19246438), (-2.41372292, 56.84261766), (-14.40774925, 57.22124037), (-2.48244869, 54.81585151), (-14.47458256, 55.25030297), (-2.56058167, 52.78943116), (-14.55056335, 53.27969878), (-2.64815344, 50.76339223), (-14.63572107, 51.30946848), (-2.74513044, 48.73778798), (-14.73002825, 49.33965801), (-2.85157671, 46.71265408), (-14.83354292, 47.37030796), (-2.96743009, 44.68803546), (-14.94620516, 45.40145734), (-3.09269155, 42.66398158), (-15.06801401, 43.43315587), (-3.22738919, 40.64053103), (-15.19900241, 41.46544126), (-3.37149387, 38.61773029), (-15.33913845, 39.49835858), (-3.52503655, 36.59562577), (-15.48845221, 37.53195297), (-3.68795574, 34.57425157), (-15.64688313, 35.56625899), (-3.86031229, 32.5536633), (-15.81449239, 33.60132785), (-4.04141515, 30.53927037), (-15.99157817, 31.6317921), (-4.22350257, 28.54757691), (-16.17366464, 29.64009856), (-4.40558951, 26.55588342), (-16.35575158, 27.64840507), (-4.58767646, 24.56418992), (-16.53783853, 25.65671157), (-4.7697634, 22.57249452), (-16.71992547, 23.66501616), (-4.95185034, 20.58080293), (-16.90201242, 21.67332458), (-5.15406235, 18.49594498), (-17.08550063, 19.77687454), (-5.40674616, 16.37283891), (-17.30553412, 17.92810256), (-5.70823718, 14.25611207), (-17.56806897, 16.08488562), (-6.05838216, 12.14688552), (-17.87296854, 14.24820077), (-6.45699103, 10.04627982), (-18.22007196, 12.41902169), (-6.90385206, 7.95540667), (-18.6091942, 10.59831952), (-7.39873118, 5.87537462), (-19.04012686, 8.78705519), (-7.94135656, 3.80728712), (-19.51263819, 6.9861928), (-8.53145185, 1.7522388), (-20.02648577, 5.19668622), (-9.16870022, -0.28867947), (-20.58139133, 3.41948162), (-9.85276389, -2.31438768), (-21.17706705, 1.65552462), (-10.58328011, -4.32381018), (-21.81318901, -0.09425394), (-11.35986238, -6.31588245), (-22.48942656, -1.82892346), (-12.18209622, -8.28955251), (-23.20541598, -3.54756755), (-13.04954884, -10.24376974), (-23.96078136, -5.24927226), (-13.96176294, -12.17749756), (-24.75512548, -6.93313629), (-14.91824226, -14.08971207), (-25.58801384, -8.59826858), (-15.91849527, -15.97940117), (-26.45902243, -10.2437815), (-16.96198644, -17.84556258), (-27.3676797, -11.86880815), (-18.04816799, -19.68720962), (-28.31351109, -13.47248887), (-19.17645217, -21.5033597), (-29.29600572, -15.05396757), (-20.34624425, -23.29305938), (-30.31464442, -16.61241242), (-21.55693261, -25.05534758), (-31.36889442, -18.14699159), (-22.80786448, -26.78930253), (-32.45818777, -19.65689498), (-24.09838697, -28.4940006), (-33.58195666, -21.14132197), (-25.42780665, -30.16853715), (-34.73959753, -22.59948348), (-26.76393464, -31.77868445), (-35.95813033, -24.06721323), (-28.04918199, -33.31104902), (-37.24337477, -25.59958025), (-29.33442525, -34.84341734), (-38.52861949, -27.13194734), (-30.61966997, -36.37578062), (-39.81386274, -28.66431185), (-31.90491777, -37.90814451), (-41.09911055, -30.19667574), (-33.19016176, -39.44051222), (-42.38435453, -31.72904345), (-34.47540575, -40.97287611), (-43.66959852, -33.26140734), (-35.78686424, -42.53235839), (-44.93252663, -34.76339509), (-37.15407658, -44.1168454), (-46.17844295, -36.20730468), (-38.54564718, -45.67998187), (-47.44655557, -37.63176282), (-39.96123069, -47.22141226), (-48.73655373, -39.03643839), (-41.40050484, -48.74074878), (-50.04813407, -40.42098676), (-42.86310408, -50.23763088), (-51.38097551, -41.78506657), (-44.34868896, -51.71171067), (-52.73476136, -43.12836959), (-45.85690715, -53.16263228), (-54.10917257, -44.45056505), (-47.38738974, -54.5900421), (-55.50387613, -45.75133516), (-48.93978001, -55.99359378), (-56.91854213, -47.03037015), (-50.51369498, -57.37296703), (-58.35282114, -48.2873647), (-52.10876654, -58.72781999), (-59.80637934, -49.52201979), (-53.72460417, -60.05783006), (-61.27885958, -50.73403243), (-55.31816474, -61.33015453), (-62.81135949, -51.95721424), (-56.54379979, -62.37670075), (-64.62711391, -53.50765289), (-57.6992326, -63.50027655), (-66.3388686, -55.1722088), (-58.77963324, -64.6961774), (-67.93946009, -56.94391354)]\n"
     ]
    }
   ],
   "source": [
    "f = open('section.txt')\n",
    "points = []\n",
    "for line in f.readlines():\n",
    "    line = line.split('\\n')[0]\n",
    "    coords = line.split(\",\")\n",
    "    points.append((float(coords[0][1:]), float(coords[1][1:(len(coords[1])-1)])))\n",
    "print(points)"
   ]
  },
  {
   "cell_type": "code",
   "execution_count": 32,
   "id": "e7bd7957",
   "metadata": {},
   "outputs": [],
   "source": [
    "def conformal_map(z):\n",
    "    return np.exp(z)"
   ]
  },
  {
   "cell_type": "code",
   "execution_count": 47,
   "id": "94e6129b",
   "metadata": {},
   "outputs": [
    {
     "name": "stdout",
     "output_type": "stream",
     "text": [
      "[(2.2104443575767852e+16, 3.6337050163425855e+69), (1.7266902453413261e+19, 1.3778096325229062e+65), (5078298909052148.0, 9.370509743313214e+68), (3.966901836113518e+18, 3.553116083175033e+64), (1166689469695245.0, 2.4164810404616332e+68), (9.113568610499092e+17, 9.162828794536768e+63), (268035486503457.84, 6.231657441550818e+67), (2.093761185910152e+17, 2.362887909430201e+63), (61578764198794.74, 1.6070046002747737e+67), (4.810211346315268e+16, 6.093450673851853e+62), (14147118362709.717, 4.1441674517970936e+66), (1.1051031975923258e+16, 1.5713641765890215e+62), (3250174359798.8296, 1.0686877910745028e+66), (2538866432732603.5, 4.052257395172801e+61), (746695747564.5197, 2.755948028491409e+65), (583279520878416.4, 1.0450025622871812e+61), (171546094494.1203, 7.10707742789133e+64), (134003315753174.98, 2.6948261403682802e+60), (39411173720.05515, 1.8327564279411655e+64), (30785949907634.33, 6.9494578778783115e+59), (9054331419.042147, 4.726339634900107e+63), (7072784177895.288, 1.792109241496621e+59), (2080147975.0913198, 1.2188169332055063e+63), (1624906042437.2634, 4.6215180637348463e+58), (477894550.27529967, 3.1431033012759426e+62), (373306255490.1795, 1.191803977060645e+58), (109791595.45671585, 8.105481712097514e+61), (85763622212.79163, 3.0733950171015182e+57), (25223592.37823143, 2.0902218472711446e+61), (19703390214.681187, 7.925716948296042e+56), (5794884.53718933, 5.390295301591023e+60), (4526669697.683613, 2.0438645485918365e+56), (1331320.533570393, 1.3900361866393895e+60), (1039958057.5420984, 5.270748407756882e+55), (305857.8620760111, 3.584646103758268e+59), (238920638.91393778, 1.3592284673175367e+55), (70267.9843911409, 9.244138882281863e+58), (54889783.15605217, 3.505145207569383e+54), (16143.41232722879, 2.3838559562589432e+58), (12610414.523475803, 9.03912078443826e+53), (3708.798059758727, 6.1475233865556764e+57), (2897119.2813565247, 2.3309863899413694e+53), (852.0600537777887, 1.5853083156691432e+57), (665587.3414140047, 6.011182558360504e+52), (195.75320350023173, 4.08821674918405e+56), (152911.88049840718, 1.5501523312215522e+52), (44.97246978502446, 1.0542571359144205e+56), (35130.07569610225, 3.9975475768399856e+51), (10.33196471386676, 2.7187397760854257e+55), (8154.253484245984, 1.0390983306115457e+51), (2.3530316016016926, 6.943889320212523e+54), (1917.407323249296, 2.7072013803148467e+50), (0.5341772640270571, 1.7509662848508047e+54), (453.3009075316224, 7.012474631927033e+49), (0.12193989007144039, 4.38911091410646e+53), (107.74698422919374, 1.8060066430165364e+49), (0.027990113792310457, 1.0937426747715964e+53), (25.750133717271257, 4.624669025204734e+48), (0.006460691458475217, 2.709593285045634e+52), (6.1878093338829325, 1.1775177914262622e+48), (0.0014996661534676411, 6.673561712619742e+51), (1.4723866416781308, 2.9494211751315335e+47), (0.0003539895199251298, 1.6586744301320525e+51), (0.6180080535345825, 1.1473053848157323e+47), (5.635492280893185e-05, 2.2479466067366613e+50), (0.29208644967508884, 4.051502347258482e+46), (1.1533900493970551e-05, 2.4825809714207173e+49), (0.15711190607363779, 1.3182442693759788e+46), (3.1041327163539773e-06, 2.305427063482362e+48), (0.09703392105618075, 4.015695570139224e+45), (1.1192981509752232e-06, 1.862218668290199e+47), (0.06928489236108723, 1.1648438401785523e+45), (5.486587299191967e-07, 1.3561667748717228e+46), (0.05746948774128215, 3.2747355844720786e+44), (3.693366493363789e-07, 9.242912931159183e+44), (0.05555970892725589, 8.845060620691458e+43), (3.4302591455360895e-07, 6.291532308232482e+43), (0.058805437727180804, 1.1980081123596702e+43), (3.6306506003302397e-07, 8.521486813559285e+42), (0.062240777949592756, 1.622639434967145e+42), (3.842741333976066e-07, 1.1541908367910424e+42), (0.06587668063238339, 2.1977635106985974e+41), (4.067229442344977e-07, 1.563279295233788e+41), (0.06972511333588917, 2.976755860896183e+40), (4.304831906285273e-07, 2.1173801374223244e+40), (0.07379836736838653, 4.03186038418871e+39), (4.5563061068439706e-07, 2.867880695100723e+39), (0.07810942662470868, 5.4609440963363005e+38), (4.822479818654094e-07, 3.8843946569656616e+38), (0.0826724817673009, 7.396507055303935e+37), (5.10420301520783e-07, 5.26116944097586e+37), (0.08750210401692082, 1.0018182602544545e+37), (5.402373861522317e-07, 7.125978942919997e+36), (0.09261369074873524, 1.3569001031849096e+36), (5.717973794798832e-07, 9.65169285359217e+35), (0.0977372874731165, 1.793142048136137e+35), (6.026508918696624e-07, 1.3395996828771837e+35), (0.10219089859720686, 2.3610818811337096e+34), (6.293384680277245e-07, 1.8651977100028903e+34), (0.105843732955357, 3.1083037556145084e+33), (6.512039998507466e-07, 2.5965278525303113e+33), (0.10859736012706382, 4.0914634761822324e+32), (6.676731964443471e-07, 3.6141454014469465e+32), (0.11037592716029726, 5.385015221134491e+31), (6.783051883327283e-07, 5.030051724122793e+31), (0.11112988240058283, 7.087199291726097e+30), (6.828105739405124e-07, 7.000355056867621e+30), (0.11083806796339762, 9.327308947329194e+29), (6.810657406456352e-07, 9.742275875799894e+29), (0.10950504694125637, 1.2275923145228328e+29), (6.730998855257202e-07, 1.3558693199727994e+29), (0.10717527184952823, 1.6157936597800812e+28), (6.59168634923285e-07, 1.8871549663882541e+28), (0.10390953854893253, 2.1270191280750597e+27), (6.396294964651608e-07, 2.62693650212492e+27), (0.09979408359871564, 2.8004476297031955e+26), (6.149795264618267e-07, 3.657296569080198e+26), (0.09494424067135607, 3.687872432274563e+25), (5.858955239729198e-07, 5.092847249196571e+25), (0.08948154107006182, 4.857750293378508e+24), (5.530877046936733e-07, 7.093636667333394e+24), (0.08353841525397246, 6.400616866663043e+23), (5.173311940978716e-07, 9.883293744350379e+23), (0.07725978767003336, 8.43642899428345e+22), (4.794801455737524e-07, 1.3774605752634373e+23), (0.07078179529127578, 1.1124003790540612e+22), (4.4033894810006025e-07, 1.920520866974197e+22), (0.06423992094268349, 1.467413059664671e+21), (4.0070984504118027e-07, 2.678805689968197e+21), (0.05775318901880586, 1.9366355600280912e+20), (3.6130515896467673e-07, 3.7382070576129167e+20), (0.05143532478214535, 2.5572147888487055e+19), (3.2280895477394394e-07, 5.219181417951304e+19), (0.04537964828959237, 3.3785610909173207e+18), (2.8578844289627175e-07, 7.290879592191766e+18), (0.03966091083767579, 4.466407745133821e+17), (2.5070160994595766e-07, 1.0190895046026743e+18), (0.034338302049609, 5.908362983463864e+16), (2.179198613997127e-07, 1.4253423052740862e+17), (0.029450730925220086, 7821289002785112.0), (1.8769412195757678e-07, 1.9948951291045788e+16), (0.025023103521730206, 1036111926422764.5), (1.6019353963467332e-07, 2794023286004237.5), (0.021061421224692237, 137365077947217.77), (1.354731474589976e-07, 391625777297716.2), (0.017572586965010215, 18324688593070.344), (1.134869289605423e-07, 54640260568340.445), (0.01464725152990519, 2500662743323.4624), (9.459467614587199e-08, 7456435194727.236), (0.012208907020216814, 341250763225.0493), (7.884739354100155e-08, 1017535934396.7535), (0.01017647637397337, 46568487713.13685), (6.57215782043964e-08, 138857153639.18683), (0.008482386855281802, 6354915977.364803), (5.4780832832777646e-08, 18948984146.631084), (0.007070314332638163, 867219721.5232654), (4.566140524669561e-08, 2585861556.258328), (0.005775893303199437, 107816900.43650916), (3.8006804403497605e-08, 388139178.2121452), (0.00448621391051806, 12901303.490470132), (3.0500153517044205e-08, 61104896.4971244), (0.0033185173404631746, 1553641.4715452828), (2.3457654673737057e-08, 9673353.678771734), (0.002338180631346957, 188506.07623139725), (1.72929222093892e-08, 1541398.639983258), (0.0015695112246054534, 23069.803186798406), (1.2221465549415146e-08, 247464.32025181063), (0.0010039108464620274, 2850.94748816358), (8.281893592081948e-09, 40067.44827819061), (0.0006120288230953049, 356.15805961455555), (5.382424789184556e-09, 6548.9184312849475), (0.00035572359045404797, 45.02811714082948), (3.355590117626275e-09, 1081.5957760479907), (0.0001971685029305664, 5.767500512928184), (2.007278986633066e-09, 180.67253973473382), (0.00010425192627479524, 0.7492523247655409), (1.152432017249187e-09, 30.55357255425533), (5.260160686094731e-05, 0.09882667903118768), (6.352089919520631e-10, 5.235826020832996), (2.533610485902795e-05, 0.013249305010013727), (3.362423251855425e-10, 0.9100516343836695), (1.1653984957532204e-05, 0.00180737014289584), (1.709882013088901e-10, 0.16058635238551044), (5.121330855370272e-06, 0.00025112681434178086), (8.356335911602608e-11, 0.02879459595207152), (2.151062095273112e-06, 3.5578474921837836e-05), (3.926131786568834e-11, 0.005251338618115669), (8.639396328240033e-07, 5.144936349943368e-06), (1.7741306759622555e-11, 0.000974938378989604), (3.3196301992561437e-07, 7.601788746329729e-07), (7.71377179349898e-12, 0.00018442483423776116), (1.2209147598736471e-07, 1.1487730743350447e-07), (3.2284388296868825e-12, 3.55780565214329e-05), (4.3003409229014666e-08, 1.7773405320882454e-08), (1.3012709177378111e-12, 7.00554800980263e-06), (1.451376989818104e-08, 2.8180811693472134e-09), (5.053570983930474e-13, 1.4091993242596326e-06), (4.696481761149379e-09, 4.5836298593649643e-10), (1.8919357077025676e-13, 2.898310789663174e-07), (1.457935781413114e-09, 7.655134835016752e-11), (6.8315178515542e-14, 6.099875273191082e-08), (4.3445332035908405e-10, 1.3140164551569516e-11), (2.380467464177281e-14, 1.3148060364505657e-08), (1.243570217054413e-10, 2.320351275171667e-12), (8.009181931059552e-15, 2.904818346276335e-09), (3.4213973617541674e-11, 4.2190315404353707e-13), (2.6034037797762634e-15, 6.583252735797821e-10), (9.054070774623042e-12, 7.906254474850589e-14), (8.180587404722554e-16, 1.5316834887491131e-10), (2.3799666522571264e-12, 1.5801295730196043e-14), (2.4187023029833865e-16, 3.529734984570758e-11), (6.582563235315538e-13, 3.413463192545674e-15), (6.689718602833561e-17, 7.625065143970714e-12), (1.8206270212426714e-13, 7.373880896798006e-16), (1.8502617043546513e-17, 1.6471948923653913e-12), (5.035542831191317e-14, 1.5929392074640935e-16), (5.1175148169214295e-18, 3.558340764834912e-13), (1.3927406992435621e-14, 3.441137450336241e-17), (1.4154126639706327e-18, 7.686884477170187e-14), (3.8520852879791205e-15, 7.433668317319587e-18), (3.914792148161387e-19, 1.6605483047837135e-14), (1.0654216591734907e-15, 1.6058537777364e-18), (1.08276531644542e-19, 3.587189600776022e-15), (2.8705316252740885e-16, 3.3762255248495263e-19), (3.062327445267269e-20, 7.988207549717362e-16), (7.314582811308211e-17, 6.923050248597269e-20), (8.809617327696901e-21, 1.8852431561856234e-16), (1.8190227401210528e-17, 1.4502268462429336e-20), (2.4786929448463832e-21, 4.5366268934466185e-17), (4.4162944462539895e-18, 3.1045683651091264e-21), (6.823130034216821e-22, 1.113499981274817e-17), (1.0471025084164345e-18, 6.794566616937906e-22), (1.8381101949606285e-22, 2.788614601465841e-18), (2.4254393588527206e-19, 1.5208070773283356e-22), (4.847589780062225e-23, 7.128139045244637e-19), (5.490464717201099e-20, 3.4824862169582155e-23), (1.2519417910969874e-23, 1.8603175089377694e-19), (1.2150615207598908e-20, 8.161352900450414e-24), (3.16726887166266e-24, 4.958666282301576e-20), (2.6297721642515196e-21, 1.958149964554761e-24), (7.851865876712261e-25, 1.3503538914080396e-20), (5.568312445041792e-22, 4.81161864841856e-25), (1.9080565192792907e-25, 3.758112372958953e-21), (1.1539341059230647e-22, 1.211258976156794e-25), (4.546652636120456e-26, 1.069212346757012e-21), (2.3412631674304627e-23, 3.124869204789829e-26), (1.0627215076170476e-26, 3.110713919227837e-22), (4.652655174269656e-24, 8.264485268244043e-27), (2.4374147059314377e-27, 9.257413674746563e-23), (9.454233067419673e-25, 2.3155401369946164e-27), (5.2646944716874995e-28, 2.724385502084108e-23), (2.7754906291036674e-25, 8.13098322257355e-28), (8.566453218783304e-29, 5.77991711061318e-24), (8.740608571460077e-26, 2.643505966756083e-28), (1.5466620564581194e-29, 1.0939920443048214e-24), (2.967082592153331e-26, 7.994791737291158e-29), (3.120810362980213e-30, 1.8602553901861938e-25)]\n"
     ]
    }
   ],
   "source": [
    "transformed_curve = []\n",
    "for point in points:\n",
    "    transformed_point = (conformal_map(point[0]), conformal_map(point[1]))\n",
    "    # transformed_point = conformal_map(point)\n",
    "    transformed_curve.append(transformed_point)\n",
    "print(transformed_curve)"
   ]
  },
  {
   "cell_type": "code",
   "execution_count": 48,
   "id": "ebc4eae3",
   "metadata": {},
   "outputs": [
    {
     "data": {
      "text/plain": [
       "[<matplotlib.lines.Line2D at 0x271bb1320a0>,\n",
       " <matplotlib.lines.Line2D at 0x271bb132100>]"
      ]
     },
     "execution_count": 48,
     "metadata": {},
     "output_type": "execute_result"
    },
    {
     "data": {
      "image/png": "[encoded data removed]",
      "text/plain": [
       "<Figure size 1200x800 with 2 Axes>"
      ]
     },
     "metadata": {},
     "output_type": "display_data"
    }
   ],
   "source": [
    "plt.figure(figsize=(12, 8))\n",
    "plt.subplot(2, 3, 1)\n",
    "plt.plot(points)\n",
    "plt.subplot(2, 3, 2)\n",
    "plt.plot(transformed_curve)"
   ]
  }
 ],
 "metadata": {
  "kernelspec": {
   "display_name": "Python 3 (ipykernel)",
   "language": "python",
   "name": "python3"
  },
  "language_info": {
   "codemirror_mode": {
    "name": "ipython",
    "version": 3
   },
   "file_extension": ".py",
   "mimetype": "text/x-python",
   "name": "python",
   "nbconvert_exporter": "python",
   "pygments_lexer": "ipython3",
   "version": "3.8.19"
  }
 },
 "nbformat": 4,
 "nbformat_minor": 5
}
